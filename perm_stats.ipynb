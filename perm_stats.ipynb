version https://git-lfs.github.com/spec/v1
oid sha256:51eb1253cfa7dc3bf64f315453db0730b9027951c8c7337a6d84edd3e1f1a255
size 234834
