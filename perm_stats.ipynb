version https://git-lfs.github.com/spec/v1
oid sha256:05fd8bb1d8dbc04813ba16e84a2b7a9bb7231e8ce26ffc7a5613477cb3deea23
size 1381335
