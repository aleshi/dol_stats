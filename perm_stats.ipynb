version https://git-lfs.github.com/spec/v1
oid sha256:8694405f434ff09684f281009b7dd4e4901e7bb0655a2b7a51e286a14c87a67b
size 1059528
